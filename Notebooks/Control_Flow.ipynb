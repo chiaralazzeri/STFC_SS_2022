{
 "cells": [
  {
   "cell_type": "markdown",
   "id": "52e8fa03",
   "metadata": {},
   "source": [
    "# Control Flow in Python\n",
    "\n",
    "- [if/then/else](#if/then/else)\n",
    "- [loops](#Loops)\n",
    "    - [while-loop/else](#while-loop)\n",
    "    - [for-loop/else](#for-loops)    \n",
    "- [functions](#Functions)\n",
    "- [exceptions](#Exceptions)\n",
    "\n",
    "Some laguages use parentheses (IDL) or braces (C and C++) to control the flow of code or seperate statements. These seperators are required for the code to compile without errors. \n",
    "\n",
    "Python uses **indentation** or **white space**. This is typically easier to read and has the advantage that code is uniformly and consistently indented (which at times may be lost in languages using character seperators). \n",
    "\n",
    "This makes it easier understand and read other people's code; however, commenting is still important!\n",
    "\n",
    "----\n"
   ]
  },
  {
   "cell_type": "markdown",
   "id": "87d3e02d",
   "metadata": {},
   "source": [
    "### if/then/else\n",
    "\n",
    "**if/then/else** statements evaluate an expression or series of expressions and decide whether the expression is **TRUE** or **FLASE**. This outcome dictates which condition (or block) of the statement is excuted.\n",
    "\n",
    "- If the intial expression is true excute the conditional statement which imidiately follows.\n",
    "- If the intial expression is false evalute the next expression which may be another **if** statement or an **else**.\n",
    "\n",
    "**Remember the indentation controls the flow and defines the condition code statement.**"
   ]
  },
  {
   "cell_type": "code",
   "execution_count": 3,
   "id": "17b30915",
   "metadata": {},
   "outputs": [
    {
     "name": "stdout",
     "output_type": "stream",
     "text": [
      "a is within the bounds.\n"
     ]
    }
   ],
   "source": [
    "a = -10\n",
    "\n",
    "if a == 0.0:\n",
    "    print('zero')\n",
    "elif a > 10.0 or a < -10:\n",
    "    print(\"a is too big\")\n",
    "    if a < 0:\n",
    "        print(\"negative\")\n",
    "    \n",
    "else:\n",
    "    print(\"a is within the bounds.\")\n",
    "    "
   ]
  },
  {
   "cell_type": "markdown",
   "id": "83e232c0",
   "metadata": {},
   "source": [
    "### Loops\n",
    "\n",
    "Loops are used to sequentially execute a statement or group of statements allowing tasks which need to ran multiple times to be confined within the loop.\n",
    "\n",
    "#### while-loop\n",
    "\n",
    "The python while-loop requires a conditional statement and excutes as long as the condition is **TRUE**. \n",
    "\n",
    "In python you can also use the **else** clause (often overlooked) which excutes when the loop as finished."
   ]
  },
  {
   "cell_type": "code",
   "execution_count": null,
   "id": "610697d6",
   "metadata": {},
   "outputs": [],
   "source": [
    "a = 0\n",
    "total = 0\n",
    "while a<10:\n",
    "    print(a,total)\n",
    "\n",
    "    a += 1\n",
    "    total += a\n",
    "else:\n",
    "    print(\"final sum\",total)\n",
    "    "
   ]
  },
  {
   "cell_type": "markdown",
   "id": "d549c4e3",
   "metadata": {},
   "source": [
    "#### for-loops\n",
    "\n",
    "The for-loop in python runs over an **iterator** and is used to exectute a block of code a fixed number of times. This is different from many other languages which itterate over a sequence of numbers or index specified by a start, end, and step (some languages). Both Matlab and IDL itterate over a sequence a numbers.\n",
    "\n",
    "Lists are the most common iterator to use in the python for-loop; however when working with arrays and data structures, packages like Numpy and Pandas provide several ways to loop over arrays and data structures.\n",
    "\n",
    "Similar to the while-loop, it also has an **else** clause."
   ]
  },
  {
   "cell_type": "code",
   "execution_count": null,
   "id": "38a43e94",
   "metadata": {},
   "outputs": [],
   "source": [
    "# iterating over a list of numbers\n",
    "\n",
    "for i in [1,3,-1,10,100,0]:\n",
    "    print(i)\n",
    "    if i <= 10:\n",
    "        print(\"We're good!\")\n",
    "else:    \n",
    "    print(\"Completed all iterations of the loop!\")"
   ]
  },
  {
   "cell_type": "code",
   "execution_count": null,
   "id": "c9e819df",
   "metadata": {},
   "outputs": [],
   "source": [
    "# iterating over a list of strings\n",
    "\n",
    "w = ['H','D','Z']\n",
    "for s in w:\n",
    "    print(s)"
   ]
  },
  {
   "cell_type": "markdown",
   "id": "a9890e20",
   "metadata": {},
   "source": [
    "##### Loop Control Statements\n",
    "\n",
    "Statements which either exit a loop or move onto the next iteration of loop \n",
    "- ```break```, terminate the loop regardless of the condition\n",
    "- ```continue```, move to the next iteration and retest the condition\n",
    "----"
   ]
  },
  {
   "cell_type": "markdown",
   "id": "736e54d4",
   "metadata": {},
   "source": [
    "### Functions\n",
    "\n",
    "Functions are the classic analog of functions in languages like Fortran and C. However, Python is object oriented and so it has a ```class``` as well, much like C++ and Java.\n",
    "\n",
    "**Note**, in Python we can get additional functionality by importing packages. \n",
    "\n"
   ]
  },
  {
   "cell_type": "code",
   "execution_count": 5,
   "id": "b7d53aec",
   "metadata": {},
   "outputs": [
    {
     "name": "stdout",
     "output_type": "stream",
     "text": [
      "-4.0\n",
      "-2.0\n",
      "0.0\n",
      "0.0\n",
      "4.0\n",
      "2.0\n",
      "end of loop\n",
      "4.0\n",
      "2.0\n"
     ]
    }
   ],
   "source": [
    "# in Python we can get \n",
    "# additional functionality\n",
    "# by importing python packages\n",
    "\n",
    "import math\n",
    "\n",
    "def mysqrt(x):\n",
    "    '''\n",
    "    This is my sqrt function (comment vs. docstring)\n",
    "    \n",
    "    This is the docstring for mysqrt!\n",
    "\n",
    "    Here is more text!\n",
    "    '''\n",
    "    \n",
    "    if x < 0:\n",
    "        return -math.sqrt(-x)\n",
    "    else:\n",
    "        return math.sqrt(x)\n",
    "\n",
    "    \n",
    "\n",
    "for x2 in [-4.0, 0.0, 4.0]:\n",
    "    print(mysqrt(x2))\n",
    "else:\n",
    "    print('end of loop')\n",
    "    \n",
    "print(x2)\n",
    "\n",
    "#this function call also works\n",
    "print(mysqrt(x=x2))"
   ]
  },
  {
   "cell_type": "markdown",
   "id": "85950175",
   "metadata": {},
   "source": [
    "#### Function Arguments\n",
    "\n",
    "Functions can be defined with a variable number of arguments. These arguments can be ```required```, ```keyword```, ```default```, or ```variable length``` arguments. \n",
    "\n",
    "Read more on function arguments here: \n",
    "- [Problem Solving with Python - Functions and Modules](https://problemsolvingwithpython.com/07-Functions-and-Modules/07.00-Introduction/)\n",
    "- [Tutorials Point - Python Functions](https://www.tutorialspoint.com/python/python_functions.htm)"
   ]
  },
  {
   "cell_type": "markdown",
   "id": "6d5dd593",
   "metadata": {},
   "source": [
    "### Exceptions\n",
    "\n",
    "Errors or Exceptions disrupt the flow of code in a program and occur when Python cannot handle a particular peice or line of code. This could incluide passing the wrong or incorrect number of arguments to a function. In the case above, the ```math.sqrt( )``` function cannot handle negative numbers but we've solved that with an ```if/else``` statement.\n",
    "\n",
    "Exceptions can be handled with ```try/except/else``` blocks of code. If an error occurs the execution in the try block is transferred to the except block. In this way code can continue even if there's an error. This is helpful when you have a particularly 'buggy' peice of code or are trying to isolate an error.\n"
   ]
  },
  {
   "cell_type": "code",
   "execution_count": 6,
   "id": "ee5e39d0",
   "metadata": {},
   "outputs": [
    {
     "ename": "ValueError",
     "evalue": "math domain error",
     "output_type": "error",
     "traceback": [
      "\u001b[1;31m---------------------------------------------------------------------------\u001b[0m",
      "\u001b[1;31mValueError\u001b[0m                                Traceback (most recent call last)",
      "Input \u001b[1;32mIn [6]\u001b[0m, in \u001b[0;36m<cell line: 1>\u001b[1;34m()\u001b[0m\n\u001b[1;32m----> 1\u001b[0m \u001b[38;5;28mprint\u001b[39m(\u001b[43mmath\u001b[49m\u001b[38;5;241;43m.\u001b[39;49m\u001b[43msqrt\u001b[49m\u001b[43m(\u001b[49m\u001b[38;5;241;43m-\u001b[39;49m\u001b[38;5;241;43m1\u001b[39;49m\u001b[43m)\u001b[49m)\n",
      "\u001b[1;31mValueError\u001b[0m: math domain error"
     ]
    }
   ],
   "source": [
    "print(math.sqrt(-1))"
   ]
  },
  {
   "cell_type": "code",
   "execution_count": 7,
   "id": "ba3ce9bf",
   "metadata": {},
   "outputs": [
    {
     "name": "stdout",
     "output_type": "stream",
     "text": [
      "some error, deal with it\n"
     ]
    }
   ],
   "source": [
    "#Example: try,except\n",
    "try:\n",
    "    print(math.sqrt(-1))\n",
    "except:\n",
    "    print(\"some error, deal with it\")"
   ]
  },
  {
   "cell_type": "markdown",
   "id": "0ce8a36f",
   "metadata": {},
   "source": [
    "You can  define the type of Exception following the **except** which will execute only for that particular exception.\n",
    "\n",
    "A list and description of Exceptions can be found [here](https://www.tutorialspoint.com/python/python_exceptions.htm)."
   ]
  },
  {
   "cell_type": "code",
   "execution_count": 10,
   "id": "84af2ed9",
   "metadata": {},
   "outputs": [
    {
     "name": "stdout",
     "output_type": "stream",
     "text": [
      "Some error\n"
     ]
    }
   ],
   "source": [
    "#Example: defining the exception\n",
    "try:\n",
    "    #print(some_new_variable)\n",
    "    print(math.sqrt(-1))\n",
    "except ValueError:\n",
    "    print(\"Some error\")\n",
    "except NameError:\n",
    "    print(\"NameErrors occur when you try to use a variable that hasn't been defined yet.\")"
   ]
  }
 ],
 "metadata": {
  "kernelspec": {
   "display_name": "Python 3 (ipykernel)",
   "language": "python",
   "name": "python3"
  },
  "language_info": {
   "codemirror_mode": {
    "name": "ipython",
    "version": 3
   },
   "file_extension": ".py",
   "mimetype": "text/x-python",
   "name": "python",
   "nbconvert_exporter": "python",
   "pygments_lexer": "ipython3",
   "version": "3.9.12"
  }
 },
 "nbformat": 4,
 "nbformat_minor": 5
}
