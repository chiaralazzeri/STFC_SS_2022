{
 "cells": [
  {
   "cell_type": "markdown",
   "id": "9ab35f58",
   "metadata": {},
   "source": [
    "# Arrays\n",
    "\n",
    "---\n",
    "\n",
    "As we saw with built in types, from a science/research point of view, Python has some odd execution.\n",
    "\n"
   ]
  },
  {
   "cell_type": "code",
   "execution_count": 7,
   "id": "6e7b818a",
   "metadata": {},
   "outputs": [
    {
     "name": "stdout",
     "output_type": "stream",
     "text": [
      "a stringa stringa stringa string\n"
     ]
    }
   ],
   "source": [
    "s = 'a string'\n",
    "\n",
    "print(s*4)"
   ]
  },
  {
   "cell_type": "markdown",
   "id": "36b5762d",
   "metadata": {},
   "source": [
    "Similar oddities happen with data structures as well."
   ]
  },
  {
   "cell_type": "code",
   "execution_count": 8,
   "id": "77bd5c89",
   "metadata": {},
   "outputs": [
    {
     "name": "stdout",
     "output_type": "stream",
     "text": [
      "[1, 2, 3, 4, 5, 6]\n"
     ]
    }
   ],
   "source": [
    "a = [1,2,3]\n",
    "b = [4,5,6]\n",
    "c = a+b\n",
    "print(c)"
   ]
  },
  {
   "cell_type": "code",
   "execution_count": 9,
   "id": "589d8375",
   "metadata": {},
   "outputs": [
    {
     "data": {
      "text/plain": [
       "[1, 2, 3, [4, 5, 6]]"
      ]
     },
     "execution_count": 9,
     "metadata": {},
     "output_type": "execute_result"
    }
   ],
   "source": [
    "a.append(b)\n",
    "a"
   ]
  },
  {
   "cell_type": "markdown",
   "id": "2f71c1cf",
   "metadata": {},
   "source": [
    "### Scientific Data Structures\n",
    "\n",
    "Within the Python ecosystem there are several packages which have been developed for numerical and scientific computing. These packages provide scientific data structures which work as vectors or matrices, have built in and fast functions for various operations (arithmetic, vector, and matrix), and work seemlessly with other analysis packages (e.g., SciPy). \n",
    "\n",
    "#### Data Structure Packages\n",
    "\n",
    "- [Numpy](https://numpy.org/), Python's fundemental package for scientific computing.\n",
    "    - Python standard for working with numerical data in Python\n",
    "    - Store data as an ordered vector/series or matrix/array\n",
    "    - Efficiently manipulate data and perform mathematic operations\n",
    "    - Multi-dimensional arrays\n",
    "    - Import/Output data\n",
    "    - [Documentation](https://numpy.org/doc/stable/)\n",
    "- [Pandas](https://pandas.pydata.org/)\n",
    "    - Excellent for tabular, relational, or labeled data (e.g., data stored as columns, different observations/instruments)\n",
    "    - Store data in a Series (1-dimension) or DataFrame (2-dimensional)\n",
    "    - Rapidly analyze and visualize data\n",
    "    - Import/Output data\n",
    "    - Built on Numpy\n",
    "    - [Documentation](https://pandas.pydata.org/docs/user_guide/index.html)\n",
    "    \n",
    "Several other packages exist which also have built-in data structures (typically built off Numpy). The data structures in these packages often have additional utility that does not exist in Numpy or Pandas (e.g., metadata). Some of these include:\n",
    "\n",
    "- [Astropy](https://docs.astropy.org/en/stable/index.html)\n",
    "- [Sunpy](https://docs.sunpy.org/en/stable/guide/data_types/index.html)\n",
    "- [Spacepy](https://spacepy.github.io/datamodel.html)\n",
    "- [xarray](https://docs.xarray.dev/en/stable/user-guide/data-structures.html)\n",
    "    \n",
    "#### Tutorials\n",
    "\n",
    "- Numpy\n",
    "    - [Numpy Quick Start](https://numpy.org/doc/stable/user/quickstart.html)\n",
    "    - [Problem Solving With Python - Numpy and Arrays](https://problemsolvingwithpython.com/05-NumPy-and-Arrays/05.00-Introduction/)\n",
    "    - [Earth Lab - Numpy Arrays](https://problemsolvingwithpython.com/05-NumPy-and-Arrays/05.00-Introduction/)\n",
    "    - [Scipy Lecture Notes - Numpy](http://scipy-lectures.org/intro/numpy/index.html)\n",
    "    - [NASA Advanced Software Technolocy Group - Intro to Numpy](https://colab.research.google.com/github/astg606/py_materials/blob/master/numpy/introduction_numpy.ipynb)\n",
    "- Pandas\n",
    "    - [Pandas - 10 Minutes to Pandas](https://pandas.pydata.org/docs/user_guide/10min.html)\n",
    "    - [Earth Lab - Pandas DataFrames](https://www.earthdatascience.org/courses/intro-to-earth-data-science/scientific-data-structures-python/pandas-dataframes/)\n",
    "    - [NASA Advanced Software Technolocy Group - Intro to Pandas](https://colab.research.google.com/github/astg606/py_materials/blob/master/pandas/introduction_pandas.ipynb)\n",
    "    \n",
    "----"
   ]
  },
  {
   "cell_type": "markdown",
   "id": "e373a5c8",
   "metadata": {},
   "source": [
    "### Numpy\n",
    "\n",
    "Numpy addresses some of the limitations in Python regarding data types, effeciency, representation of matrices, matrix manipulation and linear algerbra.\n",
    "\n",
    "- The official [Numpy documentation](http://numpy.org/) \n",
    "- List of the [data types](https://numpy.org/doc/stable/user/basics.types.html) in Numpy\n",
    "- Numpy for [IDL users](http://mathesaurus.sourceforge.net/idl-numpy.html)\n",
    "- Numpy for [Matlab Users](https://numpy.org/doc/stable/user/numpy-for-matlab-users.html)\n",
    "- Numpy for [R and S-Plus users](http://mathesaurus.sourceforge.net/r-numpy.html)\n",
    "\n",
    "#### Creating arrays with Numpy"
   ]
  },
  {
   "cell_type": "code",
   "execution_count": 15,
   "id": "d745d90c",
   "metadata": {},
   "outputs": [
    {
     "name": "stdout",
     "output_type": "stream",
     "text": [
      "4\n",
      "int32\n",
      "()\n"
     ]
    }
   ],
   "source": [
    "import numpy as np #access all of numpy with 'np' \n",
    "\n",
    "#'from numpy import *' works too \n",
    "# however, this is bad coding style \n",
    "# as it pollutes your namespace and \n",
    "# you can 'overwrite' certian objects,\n",
    "# variables, or methods\n",
    "\n",
    "# a single element array\n",
    "arr1 = np.array(4)\n",
    "print(arr1)\n",
    "print(arr1.dtype)"
   ]
  },
  {
   "cell_type": "code",
   "execution_count": 17,
   "id": "d157cfd5",
   "metadata": {},
   "outputs": [
    {
     "name": "stdout",
     "output_type": "stream",
     "text": [
      "[[7 6]\n",
      " [5 4]]\n",
      "int32\n",
      "(2, 2)\n"
     ]
    }
   ],
   "source": [
    "# a 2x2 array\n",
    "arr1 = np.array([[7,6],[5,4]])\n",
    "print(arr1)\n",
    "print(arr1.dtype)\n",
    "print(arr1.shape)"
   ]
  },
  {
   "cell_type": "code",
   "execution_count": 18,
   "id": "f3df96ee",
   "metadata": {},
   "outputs": [
    {
     "name": "stdout",
     "output_type": "stream",
     "text": [
      "[[1. 2.]\n",
      " [3. 4.]\n",
      " [5. 6.]]\n",
      "float64\n",
      "(3, 2)\n"
     ]
    }
   ],
   "source": [
    "#a 3x2 array\n",
    "arr1 = np.array([[1.,2],[3,4],[5,6]])\n",
    "print(arr1)\n",
    "print(arr1.dtype)\n",
    "print(arr1.shape)"
   ]
  },
  {
   "cell_type": "code",
   "execution_count": 19,
   "id": "cb63cc60",
   "metadata": {},
   "outputs": [
    {
     "data": {
      "text/plain": [
       "array([[0., 0., 0.],\n",
       "       [0., 0., 0.],\n",
       "       [0., 0., 0.]])"
      ]
     },
     "execution_count": 19,
     "metadata": {},
     "output_type": "execute_result"
    }
   ],
   "source": [
    "# an array of zeros\n",
    "# dtype specifies the type\n",
    "# can use: \n",
    "# 'np.int64' -> 64 bit integer\n",
    "# 'np.uint64' -> unsigned 64 bit integer, can't take on negative values \n",
    "# 'np.complex64' -> 64 bit complex (2 32 bit floats, one real and one imaginary)\n",
    "          \n",
    "np.zeros([3,3], dtype=np.float64)"
   ]
  },
  {
   "cell_type": "code",
   "execution_count": null,
   "id": "6dfa506f",
   "metadata": {},
   "outputs": [],
   "source": [
    "# an evenly and linearly spaced array\n",
    "print(np.linspace(0,100,11)) # start, stop, number of samples/entries\n",
    "\n",
    "# note the difference between range\n",
    "print(range(0,100,10)) # start, stop, step\n",
    "\n",
    "# np.arange() is the numpy equivalent to pythons range()\n",
    "print(np.arange(0,100,10))\n",
    "\n",
    "# logrithmically spaced array\n",
    "print(np.logspace(3,6,4))"
   ]
  },
  {
   "cell_type": "markdown",
   "id": "1edf0bcc",
   "metadata": {},
   "source": [
    "----\n",
    "### Array Indexing\n",
    "\n",
    "Numpy is row-major, consecutive elements of a row reside next to each other in memory. \n",
    "\n",
    "Indexing starts at 0."
   ]
  },
  {
   "cell_type": "code",
   "execution_count": null,
   "id": "0786ec7f",
   "metadata": {},
   "outputs": [],
   "source": [
    "a = np.linspace(-1, 1, 6)\n",
    "a[2:4] = -1        # set a[2] and a[3] equal to -1\n",
    "a[-1]  = a[0]      # set last element equal to first one\n",
    "a[:]   = 0         # set all elements of a equal to 0\n",
    "a.fill(0)          # set all elements of a equal to 0\n",
    "\n",
    "i = 1\n",
    "j = 2\n",
    "k = 2\n",
    "a.shape = (2,3)    # turn a into a 2x3 matrix\n",
    "print(a[0,1])       # print element (0,1)\n",
    "a[i,j] = 10        # assignment to element (i,j)\n",
    "a[i][j] = 10       # equivalent syntax (slower)\n",
    "print(a[:,k])       # print column with index k\n",
    "print(a[1,:])       # print second row\n",
    "a[:,:] = 0         # set all elements of a equal to 0"
   ]
  },
  {
   "cell_type": "markdown",
   "id": "b59393ec",
   "metadata": {},
   "source": [
    "More on [indexing](https://numpy.org/doc/stable/user/basics.indexing.html).\n",
    "\n",
    "---\n",
    "\n",
    "### Slicing\n",
    "\n",
    "Numpys slicing extends Python's slicing to N dimensions. \n",
    "\n",
    "Slicing is constructed using start:stop:step notation inside of brackets (note the stop index is not included in slices)\n",
    "\n",
    "Slicing in Numpy creates a reference of the array. It does not create a copy!"
   ]
  },
  {
   "cell_type": "code",
   "execution_count": 20,
   "id": "34600d60",
   "metadata": {},
   "outputs": [
    {
     "name": "stdout",
     "output_type": "stream",
     "text": [
      "[[ 0.  1.  2.  3.  4.  5.]\n",
      " [ 6.  7.  8.  9. 10. 11.]\n",
      " [12. 13. 14. 15. 16. 17.]\n",
      " [18. 19. 20. 21. 22. 23.]\n",
      " [24. 25. 26. 27. 28. 29.]]\n"
     ]
    }
   ],
   "source": [
    "a = np.linspace(0, 29, 30)\n",
    "a.shape = (5,6)\n",
    "print(a)"
   ]
  },
  {
   "cell_type": "code",
   "execution_count": 21,
   "id": "612010d2",
   "metadata": {},
   "outputs": [
    {
     "name": "stdout",
     "output_type": "stream",
     "text": [
      "[[ 6.  8. 10.]\n",
      " [12. 14. 16.]]\n"
     ]
    }
   ],
   "source": [
    "print(a[1:3,:-1:2])  # a[i,j] for i=1,2 and j=0,2,4"
   ]
  },
  {
   "cell_type": "code",
   "execution_count": 24,
   "id": "749caef4",
   "metadata": {},
   "outputs": [
    {
     "name": "stdout",
     "output_type": "stream",
     "text": [
      "[[ 0.  1.  2.  3.  4.  5.]\n",
      " [ 6.  2.  8.  9. 10. 11.]\n",
      " [12. 13. 14. 15. 16. 17.]\n",
      " [18. 19. 20. 21. 22. 23.]\n",
      " [24. 25. 26. 27. 28. 29.]]\n",
      "[1, 1]\n",
      "2.0\n",
      "2.0\n"
     ]
    }
   ],
   "source": [
    "print(a)\n",
    "b = a[1,:]      # extract 2nd column of a\n",
    "b[1] = 2\n",
    "print(b[1])\n",
    "print(a[1,1])"
   ]
  },
  {
   "cell_type": "code",
   "execution_count": 26,
   "id": "5777a0f0",
   "metadata": {},
   "outputs": [
    {
     "name": "stdout",
     "output_type": "stream",
     "text": [
      "2.0\n",
      "7777.0\n",
      "2.0\n"
     ]
    }
   ],
   "source": [
    "# Take a copy to avoid referencing via slices:\n",
    "b = a[1,:].copy()\n",
    "print(a[1,1])\n",
    "b[1] = 7777     # b and a are two different arrays now\n",
    "print(b[1])\n",
    "print(a[1,1])"
   ]
  },
  {
   "cell_type": "markdown",
   "id": "978393f2",
   "metadata": {},
   "source": [
    "More on slicing:\n",
    "- [Numpy](https://numpy.org/doc/stable/user/basics.indexing.html#slicing-and-striding)\n",
    "- [Problem Solving with Python - Array Slicing](https://problemsolvingwithpython.com/05-NumPy-and-Arrays/05.06-Array-Slicing/)\n",
    "\n",
    "---\n",
    "\n",
    "### Numpy Computations and Broadcasting\n",
    "\n",
    "What happens when we add two Numpy arrays together?"
   ]
  },
  {
   "cell_type": "code",
   "execution_count": 31,
   "id": "d1d66265",
   "metadata": {},
   "outputs": [
    {
     "name": "stdout",
     "output_type": "stream",
     "text": [
      "[5 7 9]\n",
      "[12 13 14]\n",
      "[3 6 9]\n"
     ]
    }
   ],
   "source": [
    "a = np.array([1,2,3])\n",
    "b = np.array([4,5,6])\n",
    "c = a+b\n",
    "\n",
    "print(c)\n",
    "\n",
    "print(a+11)\n",
    "print(a*3)"
   ]
  },
  {
   "cell_type": "code",
   "execution_count": 32,
   "id": "70e05d1c",
   "metadata": {},
   "outputs": [
    {
     "name": "stdout",
     "output_type": "stream",
     "text": [
      "[0 1 2 3]\n",
      "[10 11 12 13 14]\n"
     ]
    },
    {
     "ename": "ValueError",
     "evalue": "operands could not be broadcast together with shapes (4,) (5,) ",
     "output_type": "error",
     "traceback": [
      "\u001b[1;31m---------------------------------------------------------------------------\u001b[0m",
      "\u001b[1;31mValueError\u001b[0m                                Traceback (most recent call last)",
      "Input \u001b[1;32mIn [32]\u001b[0m, in \u001b[0;36m<cell line: 8>\u001b[1;34m()\u001b[0m\n\u001b[0;32m      5\u001b[0m \u001b[38;5;28mprint\u001b[39m(arr1)\n\u001b[0;32m      6\u001b[0m \u001b[38;5;28mprint\u001b[39m(arr2)\n\u001b[1;32m----> 8\u001b[0m \u001b[38;5;28mprint\u001b[39m(\u001b[43marr1\u001b[49m\u001b[38;5;241;43m+\u001b[39;49m\u001b[43marr2\u001b[49m)\n",
      "\u001b[1;31mValueError\u001b[0m: operands could not be broadcast together with shapes (4,) (5,) "
     ]
    }
   ],
   "source": [
    "# Array must have similar dimensions to broadcast\n",
    "arr1 = np.arange(4)\n",
    "arr2 = np.arange(10, 15)\n",
    "\n",
    "print(arr1)\n",
    "print(arr2)\n",
    "\n",
    "print(arr1+arr2)"
   ]
  },
  {
   "cell_type": "markdown",
   "id": "6e480a7e",
   "metadata": {},
   "source": [
    "**Broadcasting** is a powerful way to effeciently manipulate arrays. When numpy broadcasts new arrays aren't created. In the example above, ```a+11```, the addition was carried out as if ```11``` was a 1-d array the same size as ```a```, however no new array was created. This can save memory and can have implications on the performance of code especially when arrays are large.\n",
    "\n",
    "**Note** that when broadcasting arrays must have similar dimensions or one array needs to have a dimension of 1 or none. \n",
    "\n",
    "More on [broadcasting](https://numpy.org/doc/stable/user/basics.broadcasting.html).\n",
    "\n",
    "Numpy also provides routines for:\n",
    "- [Math](https://numpy.org/doc/stable/reference/routines.math.html)\n",
    "- [Matrices (in place of arrays)](https://numpy.org/doc/stable/reference/routines.matlib.html)\n",
    "- [Matrix operations and Linear Algerba for arrays](https://numpy.org/doc/stable/reference/routines.linalg.html)\n",
    "\n",
    "\n",
    "\n",
    "---"
   ]
  }
 ],
 "metadata": {
  "kernelspec": {
   "display_name": "Python 3 (ipykernel)",
   "language": "python",
   "name": "python3"
  },
  "language_info": {
   "codemirror_mode": {
    "name": "ipython",
    "version": 3
   },
   "file_extension": ".py",
   "mimetype": "text/x-python",
   "name": "python",
   "nbconvert_exporter": "python",
   "pygments_lexer": "ipython3",
   "version": "3.9.12"
  }
 },
 "nbformat": 4,
 "nbformat_minor": 5
}
