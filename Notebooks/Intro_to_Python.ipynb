{
 "cells": [
  {
   "cell_type": "markdown",
   "id": "86f80750",
   "metadata": {},
   "source": [
    "# Introduction to Python\n",
    "----"
   ]
  },
  {
   "cell_type": "markdown",
   "id": "d859669b",
   "metadata": {},
   "source": [
    "## Why Python?    "
   ]
  },
  {
   "cell_type": "markdown",
   "id": "ae827c72",
   "metadata": {},
   "source": [
    "- Python has a larger community for scientific computing than any other language.    \n",
    "    - Stack Overflow \n",
    "    - Helionauts\n",
    "    - Online resources\n",
    "    - Rapidly solve problems\n",
    "    - Help with debugging\n",
    "- Large library of scientific modules \n",
    "    - Core science libraries\n",
    "        - Numpy, SciPy, Pandas \n",
    "    - Extensive Machine Learning/AI libraries\n",
    "        - scikit-learn, TensorFlow, Keras \n",
    "    - Growing library of Heliophysics focussed modules\n",
    "- Versatile\n",
    "    - General purpose language that excels in science\n",
    "    - Open Source and __Free (no licenses)__\n",
    "    - Web friendly (portable!)\n",
    "\n",
    "----"
   ]
  },
  {
   "cell_type": "markdown",
   "id": "d7e04f68",
   "metadata": {},
   "source": [
    "## Installing Python"
   ]
  },
  {
   "cell_type": "markdown",
   "id": "00287aae",
   "metadata": {},
   "source": [
    "### Anaconda\n",
    "\n",
    "[Anaconda](https://www.anaconda.com/) is an open-source distribution for python. \n",
    "\n",
    "It is widely used as a fascilitator for science as it provides access to Python, is easy to install on all operating systems, and provides rapid access to Python packages via conda and pip.\n",
    "\n",
    "- [Installing Anaconda](https://docs.anaconda.com/anaconda/install/)\n",
    "- [Installing Anaconda on Windows](https://medium.com/@GalarnykMichael/install-python-anaconda-on-windows-2020-f8e188f9a63d)\n",
    "- [Installing Anaconda on MacOS](https://problemsolvingwithpython.com/01-Orientation/01.04-Installing-Anaconda-on-MacOS/)\n",
    "- [Installing Anaconda on Linux](https://problemsolvingwithpython.com/01-Orientation/01.05-Installing-Anaconda-on-Linux/)\n",
    "- [Getting Started With Anaconda](https://docs.anaconda.com/anaconda/user-guide/getting-started/)\n",
    "\n",
    "Anaconda also easily integrates with most interactive development environments (IDEs) which provide additional utilites when programming/coding (linting, debugging, tab completion).   \n",
    "\n",
    "- [Spyder](https://www.spyder-ide.org/)\n",
    "    - Comes with anaconda but newer releases can be installed via the [Spyder](https://www.spyder-ide.org/) website and [can link to your Anaconda environment](https://www.youtube.com/watch?v=i7Njb3xO4Fw).\n",
    "    - Currently Anaconda is upto date with the most recent Spyder version\n",
    "- [PyCharm](https://www.jetbrains.com/pycharm/)\n",
    "    - Comes with its own Python enviroment but can link to [Anaconda](https://docs.anaconda.com/anaconda/user-guide/tasks/pycharm/)\n",
    "- [Visual Code](https://code.visualstudio.com/)\n",
    "    - Comes with Anaconda but can be installed seperately and [linked to your Anacdona environment](https://code.visualstudio.com/docs/languages/python#_environments). \n",
    "    - Will also run [Jupyter Notebooks](https://code.visualstudio.com/docs/languages/python#_jupyter-notebooks)\n",
    "- [Jupyter Notebook](https://jupyter.org/)\n",
    "    - Come with Anaconda\n",
    "    - Can also be ran within Visual Code.\n",
    "- [Google Colab](https://colab.research.google.com/) \n",
    "    - Allows you to write and execute Python in your browser (Juptyer Notebook like environment)\n",
    "    - Zero configuration required\n",
    "    - Access to GPUs free of charge\n",
    "    - Easy sharing\n",
    "    - Potential difficulties working with Helio specific packages (getting dependencies correct) though you [can import libraries that aren't part of Colabs default install](https://colab.research.google.com/notebooks/snippets/importing_libraries.ipynb)\n",
    "\n",
    "\n",
    "Generally people have their own preference when it comes to IDEs and coding work flows. \n",
    "\n",
    "Here we'll be using Jupyter Notebooks and Colab as they are great environment for tutorials and are easily shared.\n",
    "\n",
    "----"
   ]
  },
  {
   "cell_type": "markdown",
   "id": "0ae86d2c",
   "metadata": {},
   "source": [
    "## Python Basics "
   ]
  },
  {
   "cell_type": "markdown",
   "id": "3e08802f",
   "metadata": {},
   "source": [
    "As with any programming language, learning Python involves several elements:\n",
    "\n",
    "- __basic syntax__\n",
    "- __data structures__\n",
    "- __mathematical operators__\n",
    "- __control flow__\n",
    "    - __functions__\n",
    "    - __loops and conditionals__\n",
    "- __extensions, packages, and libraries__\n",
    "- displaying and visualizing data \n",
    "- input/output\n",
    "\n",
    "Python also has a very detailed set of [style guides](https://peps.python.org/pep-0008/).\n",
    "\n",
    "----"
   ]
  },
  {
   "cell_type": "markdown",
   "id": "806d32fd",
   "metadata": {},
   "source": [
    "### Basic Syntax"
   ]
  },
  {
   "cell_type": "code",
   "execution_count": 3,
   "id": "e2d4b624",
   "metadata": {},
   "outputs": [
    {
     "name": "stdout",
     "output_type": "stream",
     "text": [
      "1.0 2 344444str\n",
      "1.0 2 3.1\n",
      "string\n"
     ]
    }
   ],
   "source": [
    "# This is a comment within in a 'code cell'\n",
    "# Anything following the '#' is ignored by the interpreter. \n",
    "# Comments are included to make code more 'readable' \n",
    "#  and easier to follow, especially by someone who \n",
    "#  didn't write the code. \n",
    "\n",
    "# Python, as opposed to other languages, has dynamic types. \n",
    "# For instance, in C you need to declare variable types that \n",
    "#  in general cannot be mixed. \n",
    "#\n",
    "# int variable_1 = 1;\n",
    "# float variable_2 = 38.44; \n",
    "\n",
    "# In Python, we can do something simpler like: \n",
    "a = 1.  #This is a float\n",
    "b = 2   #This is an integer, note b=2L is a long integer\n",
    "c = \"344444str\" #This is a string\n",
    "\n",
    "print(a,b,c)\n",
    "\n",
    "# and then do this \n",
    "c = 3.1 \n",
    "print(a,b,c)\n",
    "\n",
    "# and then this\n",
    "c = \"string\"\n",
    "\n",
    "print(c)\n",
    "#in C this would cause an error!"
   ]
  },
  {
   "cell_type": "code",
   "execution_count": 6,
   "id": "a4fa3787",
   "metadata": {},
   "outputs": [
    {
     "name": "stdout",
     "output_type": "stream",
     "text": [
      "    9.32\n",
      "     543\n",
      "Twelve  \n",
      "\n",
      "------\n",
      "\n",
      "00009.32\n",
      "00000543\n",
      "Twelve  \n"
     ]
    }
   ],
   "source": [
    "# Formatting Print Statements\n",
    "a = 9.3188\n",
    "b = 543\n",
    "c = \"Twelve\"\n",
    "\n",
    "print(\"{0:8.3g}\".format(a))\n",
    "print(\"{0:8d}\".format(b))\n",
    "print(\"{0:8s}\".format(c))\n",
    "print(\"\\n------\\n\")\n",
    "print(\"{0:08.3g}\".format(a))\n",
    "print(\"{0:08d}\".format(b))\n",
    "print(\"{0:8s}\".format(c))"
   ]
  },
  {
   "cell_type": "markdown",
   "id": "cf851eff",
   "metadata": {},
   "source": [
    "[More on Python printing and formatting](https://pyformat.info/)"
   ]
  },
  {
   "cell_type": "markdown",
   "id": "15361845",
   "metadata": {},
   "source": [
    "### Python Data Structures\n",
    "\n",
    "Python has several built-in data structures that together with their built-in methods make for a very flexible scripting language. These are: \n",
    "\n",
    "| data type |   assignment example  |   len(a)   |\n",
    "| --------- | --------------------- | ---------- |\n",
    "| list        | a = [1,2,3] |  3  |\n",
    "| tuple      | a = (1,2,3)|  3  |\n",
    "| dictionary  |   a = {'1':1 ,'2':2 , '3':3}|  3  |\n",
    "| set        |  a = {1,2,3,2,1}|  3 |\n",
    "\n",
    "It is difficult to cover all of Pythons data types and structures in a short tutorial. The links below provide additional information on the basics of Pythons built in data types and structures  through \n",
    "\n",
    "- [Problem Solving With Python - Data Types and Variables](https://problemsolvingwithpython.com/04-Data-Types-and-Variables/04.00-Introduction/)\n",
    "- [A Whirlwind Tour of Python - Built in Data Structures](https://jakevdp.github.io/WhirlwindTourOfPython/06-built-in-data-structures.html)\n",
    "- [ASTY Python Courses - Python Data Structures](https://colab.research.google.com/github/astg606/py_materials/blob/master/data_types/python_data_structures.ipynb)"
   ]
  },
  {
   "cell_type": "markdown",
   "id": "ad259725",
   "metadata": {},
   "source": [
    "#### Examples (or *eccentricities*)"
   ]
  },
  {
   "cell_type": "markdown",
   "id": "371bf91b",
   "metadata": {},
   "source": [
    "##### Python was not devloped for science"
   ]
  },
  {
   "cell_type": "code",
   "execution_count": 7,
   "id": "8b3d44cb",
   "metadata": {},
   "outputs": [
    {
     "name": "stdout",
     "output_type": "stream",
     "text": [
      "16\n",
      "a stringa stringa stringa string\n"
     ]
    }
   ],
   "source": [
    "a = 4\n",
    "b = 'a string'\n",
    "\n",
    "print(a*4)\n",
    "print(b*4)"
   ]
  },
  {
   "cell_type": "code",
   "execution_count": 8,
   "id": "cd0b7b79",
   "metadata": {},
   "outputs": [
    {
     "name": "stdout",
     "output_type": "stream",
     "text": [
      "28.4\n"
     ]
    },
    {
     "ename": "TypeError",
     "evalue": "can't multiply sequence by non-int of type 'float'",
     "output_type": "error",
     "traceback": [
      "\u001b[1;31m---------------------------------------------------------------------------\u001b[0m",
      "\u001b[1;31mTypeError\u001b[0m                                 Traceback (most recent call last)",
      "Input \u001b[1;32mIn [8]\u001b[0m, in \u001b[0;36m<cell line: 2>\u001b[1;34m()\u001b[0m\n\u001b[0;32m      1\u001b[0m \u001b[38;5;28mprint\u001b[39m(a\u001b[38;5;241m*\u001b[39m\u001b[38;5;241m7.1\u001b[39m)\n\u001b[1;32m----> 2\u001b[0m \u001b[38;5;28mprint\u001b[39m(\u001b[43mb\u001b[49m\u001b[38;5;241;43m*\u001b[39;49m\u001b[38;5;241;43m7.1\u001b[39;49m)\n",
      "\u001b[1;31mTypeError\u001b[0m: can't multiply sequence by non-int of type 'float'"
     ]
    }
   ],
   "source": [
    "print(a*7.1)\n",
    "print(b*7.1)"
   ]
  },
  {
   "cell_type": "code",
   "execution_count": 1,
   "id": "13ffed57",
   "metadata": {},
   "outputs": [
    {
     "name": "stdout",
     "output_type": "stream",
     "text": [
      "[1, 2, 3, 4, 5, 6]\n"
     ]
    }
   ],
   "source": [
    "a = [1,2,3]\n",
    "b = [4,5,6]\n",
    "c = a+b\n",
    "print(c)"
   ]
  },
  {
   "cell_type": "code",
   "execution_count": 2,
   "id": "8e175129",
   "metadata": {},
   "outputs": [
    {
     "data": {
      "text/plain": [
       "[1, 2, 3, [4, 5, 6]]"
      ]
     },
     "execution_count": 2,
     "metadata": {},
     "output_type": "execute_result"
    }
   ],
   "source": [
    "a.append(b)\n",
    "a"
   ]
  },
  {
   "cell_type": "markdown",
   "id": "000cc87a",
   "metadata": {},
   "source": [
    "##### Indexing and Slicing\n",
    "\n",
    "Indexing allows us to access elements of multi-element datatypes (e.g. lists). \n",
    "\n",
    "In Python indices always start at 0 and go to n-1, where n is the total number of elements.\n",
    "\n",
    "In Python you can also address the last elements in a list, array, etc. by using negative indexes."
   ]
  },
  {
   "cell_type": "code",
   "execution_count": 9,
   "id": "b46502da",
   "metadata": {},
   "outputs": [
    {
     "name": "stdout",
     "output_type": "stream",
     "text": [
      "the first element of a is  1\n",
      "the third element of a is  3\n",
      "the last element of a is  10\n",
      "the first two elements of a are  [1, 2]\n",
      "the last two elements of a are  [9, 10]\n"
     ]
    }
   ],
   "source": [
    "a = [1,2,3,4,5,6,7,8,9,10]\n",
    "\n",
    "# indexing\n",
    "print(\"the first element of a is \",a[0])\n",
    "print(\"the third element of a is \",a[2])\n",
    "print(\"the last element of a is \",a[-1])\n",
    "\n",
    "# slicing\n",
    "print(\"the first two elements of a are \",a[0:2])  # Notice a[0] and a[1] are listed but not a[2]!\n",
    "print(\"the last two elements of a are \",a[-2:])  # If nothing is after the colon it goes to the end of the list "
   ]
  },
  {
   "cell_type": "code",
   "execution_count": 10,
   "id": "ba2786b3",
   "metadata": {},
   "outputs": [
    {
     "name": "stdout",
     "output_type": "stream",
     "text": [
      "[10, 15, 20, 25, 30, 35, 40, 45, 50, 55, 60, 65, 70, 75, 80, 85, 90, 95]\n",
      "[25, 35, 45, 55, 65, 75]\n",
      "[25, 30, 35, 40, 45, 50, 55, 60, 65, 70, 75, 80]\n",
      "[10, 15, 20, 25, 30, 35, 40, 45, 50, 55, 60, 65, 70, 75, 80, 85, 90, 95]\n"
     ]
    }
   ],
   "source": [
    "# slicing and copying\n",
    "a = list(range(10,100,5))\n",
    "print(a)\n",
    "\n",
    "b=a[3:15:2]\n",
    "c=a[3:15]\n",
    "\n",
    "print(b)\n",
    "print(c)\n",
    "print(a)"
   ]
  },
  {
   "cell_type": "markdown",
   "id": "54e7ddce",
   "metadata": {},
   "source": [
    "A few more examples on indexing and slicing can be found at [Real Python - Indexing and Slicing](https://realpython.com/lessons/indexing-and-slicing/)"
   ]
  },
  {
   "cell_type": "markdown",
   "id": "e3d223a2",
   "metadata": {},
   "source": [
    "###### <font color='red'> Notes on Python Data Types </font>\n",
    "\n",
    "Python is an object-oriented programming. An object is an entity that contains data along with associated metadata and/or functionality. \n",
    "\n",
    "In Python everything is an object, which means everything has some metadata called **attributes** and associated functionality called **methods**. These attributes and methods are accessed via the dot syntax.\n",
    "\n",
    "There are various ways to find/query an objects **attributes** and **methods**\n",
    "\n",
    "- If you have access to the internet the tried and tested method is **Google**, **stackoverflow**, and online manuals/documentation, e.g., the [Python Docs](https://docs.python.org/2/tutorial/datastructures.html#more-on-lists)\n",
    "    - Python is a well documented language and you can always quickly find out about any object/functionality with a simple Google search\n",
    "- The inline **```dir()```** in Python will list the **methods**\n",
    "```\n",
    "dir(a)\n",
    "```\n",
    "not very informative, but it does remind you of the names of **attributes** and **methods**\n",
    "- Python introspection package\n",
    "  ```\n",
    "  import inspect\n",
    "  inspect.getmembers(a)\n",
    "  ```\n",
    "- Use the ipython or notebook **TAB completion**:  For our object ```a``` typing ```a.<TAB>``` should show a list of possible completions, move your cursor to the desired one\n",
    "\n",
    "- Use the ipython or notebook ```?```\n",
    "  \n",
    "* Help will also provide a short description of an object/method, ```help(a.append)```"
   ]
  },
  {
   "cell_type": "code",
   "execution_count": 17,
   "id": "e2f2b7c9",
   "metadata": {},
   "outputs": [
    {
     "name": "stdout",
     "output_type": "stream",
     "text": [
      "Help on built-in function append:\n",
      "\n",
      "append(object, /) method of builtins.list instance\n",
      "    Append object to the end of the list.\n",
      "\n"
     ]
    }
   ],
   "source": [
    "# Examples\n",
    "\n",
    "#dir(a)\n",
    "#a.\n",
    "#help(a)\n",
    "#help(a.append)\n",
    "#a?"
   ]
  },
  {
   "cell_type": "markdown",
   "id": "90c50a5e",
   "metadata": {},
   "source": [
    "##### Referencing vs Assignment\n",
    "\n",
    "When an assignment is made from variable to another Python **does not** create a copy of that variable. Rather, Python stores a reference to the variable which is information about where the original varialbe is stored.\n",
    "\n",
    "With scalar variables or immutable objects this typically does not do anything surprising. However, with mutable objects, such as lists, the outcome can be unexpected.\n",
    "\n",
    "An object whose internal state can be changed is called a mutable object, while an object whose internal state cannot be changed is called an immutable object.\n",
    "\n",
    "Mutable, internal state **can be changed**: lists, sets, dictionaries\n",
    "\n",
    "Immutable, internal state **cannot be changed**: numbers (float, int), strings, tuples"
   ]
  },
  {
   "cell_type": "code",
   "execution_count": 18,
   "id": "2e6d56a9",
   "metadata": {},
   "outputs": [
    {
     "name": "stdout",
     "output_type": "stream",
     "text": [
      "0\n",
      "2\n",
      "---\n",
      "a's unique identfier: 2546775910672\n",
      "b's unique identfier: 2546775910736\n"
     ]
    }
   ],
   "source": [
    "# A scalar variable or immutable object\n",
    "a = 0\n",
    "b = a\n",
    "b = 2\n",
    "\n",
    "print(a)\n",
    "print(b)\n",
    "\n",
    "print(\"---\")\n",
    "print(\"a's unique identfier:\", id(a))   # Note the use of single quote and double quotes in formatting\n",
    "print(\"b's unique identfier: {0}\".format(id(b)))  \n",
    "# using the format method makes it easier when you're using multiple or complex variables"
   ]
  },
  {
   "cell_type": "code",
   "execution_count": 20,
   "id": "ad8d1b6a",
   "metadata": {},
   "outputs": [
    {
     "name": "stdout",
     "output_type": "stream",
     "text": [
      "simple assignment\n",
      "a= [1, 2, 3]\n",
      "b= [5, 2, 0]\n",
      "a= [0, 2, 3]\n",
      "b= [0, 2, 3]\n",
      "---\n"
     ]
    }
   ],
   "source": [
    "# A mutable object\n",
    "# Assignment\n",
    "\n",
    "a = [1,2,3]\n",
    "print(\"simple assignment\")\n",
    "print(\"a=\",a)\n",
    "print(\"b=\",b)\n",
    "\n",
    "b = a\n",
    "b[0] = 0\n",
    "print(\"a=\",a) # Notice we did not explicitly change a\n",
    "print(\"b=\",b)"
   ]
  },
  {
   "cell_type": "code",
   "execution_count": 21,
   "id": "ed5e79f8",
   "metadata": {},
   "outputs": [
    {
     "name": "stdout",
     "output_type": "stream",
     "text": [
      "a= [5, 2, 3]\n",
      "b= [5, 2, 3]\n",
      "---\n"
     ]
    }
   ],
   "source": [
    "#change an element in 'a'\n",
    "a[0] = 5\n",
    "print(\"a=\",a)\n",
    "print(\"b=\",b)"
   ]
  },
  {
   "cell_type": "code",
   "execution_count": 22,
   "id": "0aae74d3",
   "metadata": {},
   "outputs": [
    {
     "name": "stdout",
     "output_type": "stream",
     "text": [
      "---\n",
      "a's unique identfier: 2546890701632\n",
      "b's unique identfier: 2546890701632\n"
     ]
    }
   ],
   "source": [
    "print(\"a's unique identfier: {0}\".format(id(a)))  \n",
    "print(\"b's unique identfier: {0}\".format(id(b))) "
   ]
  },
  {
   "cell_type": "markdown",
   "id": "ca4808ab",
   "metadata": {},
   "source": [
    "More on mutable and immutable objects. \n",
    "\n",
    "- [freeCodeCamp - Mutable vs Immutable Objects in Python – A Visual and Hands-On Guide](freecodecamp.org/news/mutable-vs-immutable-objects-python/)\n",
    "- [Python Tutorial - Python Mutable and Immutable](https://www.pythontutorial.net/advanced-python/python-mutable-and-immutable/)\n",
    "----"
   ]
  },
  {
   "cell_type": "markdown",
   "id": "6977c23c",
   "metadata": {},
   "source": [
    "### Operators\n",
    "\n",
    "Operators are what allow us to manipulate or perform an action/comparison between operands. In Python there are a number of operators but those most important to us are\n",
    "- Arithmetic Operators which perform basic math.\n",
    "- Comparison Operators which compare values\n",
    "- Assignment Operators which assign new values.\n",
    "\n",
    "Here is a description of all [Python Operators](https://www.tutorialspoint.com/python/python_basic_operators.htm)\n",
    "\n",
    "### Arithmetic\n",
    "\n",
    "| operator |   Description  |  \n",
    "| --------- | --------------------- |\n",
    "| ``` + ``` | Addition |\n",
    "| ``` - ``` | Subtraction|  \n",
    "| ``` * ``` | Multiplication| \n",
    "| ``` / ``` | Division |  \n",
    "| ``` % ``` | Modulus - Returns the remainder|\n",
    "|``` ** ``` | Exponent |\n",
    "|``` // ``` | Floor Division - Removes the decimal and returns the integer qoutient. If negative rounds away from zero |\n",
    "\n",
    "\n",
    "### Comparison\n",
    "\n",
    "| operator |   description  | \n",
    "| --------- | --------------------- |\n",
    "| ```==``` | Equal to  |\n",
    "| ```!=``` | Not equal to  |\n",
    "| ```<>``` | If the two operands are not equal then true  |\n",
    "| ```>```  | Greater than |\n",
    "| ```<```  | Less than |\n",
    "| ```>=``` | Greather than or equal to  |\n",
    "| ```<=``` | Less then or equal to  |\n",
    "\n",
    "### Assignment\n",
    "| operator |   description  | example |\n",
    "| --------- | --------------------- |---------|\n",
    "| ```=```   | Assigns value from right side to left side | ```c = a``` assigns a to c |\n",
    "| ```+=```  | Adds right operand to left operand and assigns to left operand | ```c += a -> c = c+a``` |\n",
    "| ```-=```  | Subtracts right from left and assigns to left | ```c -= a -> c = c-a``` |\n",
    "| ```*=```  | Multiplies right with left and assigns to left | ```c *= a -> c = c*a``` |\n",
    "| ```/=```  | Divides left by right and assigns to left | ```c /= a -> c = c/a``` |\n",
    "| ```%=```  | Takes modulus of left and right assigns to left | ```c %=a -> c = c%a```|\n",
    "| ```**=``` | Takes exponential and assigns to left | ```c **=a -> c = c**a```|\n",
    "| ```//=``` | Takes floor and assigns to left | ```c //=a -> c = c//a```|\n"
   ]
  }
 ],
 "metadata": {
  "kernelspec": {
   "display_name": "Python 3 (ipykernel)",
   "language": "python",
   "name": "python3"
  },
  "language_info": {
   "codemirror_mode": {
    "name": "ipython",
    "version": 3
   },
   "file_extension": ".py",
   "mimetype": "text/x-python",
   "name": "python",
   "nbconvert_exporter": "python",
   "pygments_lexer": "ipython3",
   "version": "3.9.12"
  }
 },
 "nbformat": 4,
 "nbformat_minor": 5
}
