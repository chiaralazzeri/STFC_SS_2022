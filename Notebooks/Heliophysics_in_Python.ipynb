{
 "cells": [
  {
   "cell_type": "markdown",
   "id": "fe4e079b",
   "metadata": {},
   "source": [
    "# Heliophysics in Python\n",
    "----\n",
    "\n",
    "## Websites\n",
    "- [PyHC](https://heliopython.org/)\n",
    "    - [Projects](https://heliopython.org/projects/)\n",
    "    - [Summer School](https://heliopython.org/summer-school)\n",
    "- [Helionaughts](https://helionauts.org/)\n",
    "    - _Stack Overflow_ for helio\n",
    "- [Snakes on a Spaceship](https://www.frontiersin.org/research-topics/33555/snakes-on-a-spaceship-an-overview-of-python-in-space-physics), Frontiers Special Issue\n",
    "    - More specialized packages?\n",
    "- [SciVision](https://www.scivision.dev/)\n",
    "    - Helpful resource\n",
    "\n",
    "\n",
    "## _Core_ Packages ##\n",
    "- [Astropy](#Astropy)\n",
    "- [SunPy](#SunPy)\n",
    "- [SpacePy](#SpacePy)\n",
    "- [pySPEDAS](#pySPEDAS)\n",
    "- [PlamsaPy](#PlasmaPy)\n",
    "- [pysat](#pysat)\n",
    "\n",
    "----"
   ]
  },
  {
   "cell_type": "markdown",
   "id": "d9d1f2d2",
   "metadata": {},
   "source": [
    "<img src=\"https://www.astropy.org/images/astropy_project_logo.svg\" alt=\"Astropy\" width=\"200\" align=\"left\"/>\n",
    "<br/>\n",
    "\n",
    "### Astropy\n",
    "<br/>\n",
    "\n",
    "[Astronomy](https://www.astropy.org/index.html) focussed Python package. \n",
    "- Excellent resource for [constant](https://docs.astropy.org/en/stable/constants/index.html) and [units](https://docs.astropy.org/en/stable/units/index.html). \n",
    "- Multiple data structures\n",
    "    - [Time Series](https://docs.astropy.org/en/stable/timeseries/index.html)\n",
    "    - [Data Tables](https://docs.astropy.org/en/stable/table/index.html)\n",
    "    - [N-dimensional Datasets](https://docs.astropy.org/en/stable/nddata/index.html)\n",
    "    \n",
    "[PyHC Astropy for Heliophysics lecture](https://youtu.be/LAsJwzkwRdg?t=1020)\n",
    "\n",
    "[Example Gallery](https://docs.astropy.org/en/stable/generated/examples/index.html)\n",
    "\n",
    "[Tutorials](https://learn.astropy.org/)"
   ]
  },
  {
   "cell_type": "markdown",
   "id": "d5daaebf",
   "metadata": {},
   "source": [
    "<img src=\"https://d33wubrfki0l68.cloudfront.net/b3b2f26c63a9d265a562c51a64175489de048900/00f25/_static/img/sunpy_icon.svg\" alt=\"SunPy\" width=\"100\" align=\"left\"/>\n",
    "\n",
    "<br>\n",
    "\n",
    "### SunPy\n",
    "<br>\n",
    "<br>\n",
    "\n",
    "[Solar](https://sunpy.org/) focussed python package.\n",
    "- Huge resource for solar data and analysis. \n",
    "    - [User Guide](https://docs.sunpy.org/en/stable/guide/index.html)\n",
    "    - [Example Gallery](https://docs.sunpy.org/en/stable/generated/gallery/index.html)\n",
    "- [SunPy Presentations](https://github.com/sunpy/presentations)\n",
    "\n",
    "[PyHC SunPy Lecture](https://youtu.be/LAsJwzkwRdg?t=14581)"
   ]
  },
  {
   "cell_type": "markdown",
   "id": "26e0aee2",
   "metadata": {},
   "source": [
    "\n",
    "<img src=\"https://spacepy.github.io/_static/spacepy_logo.jpg\" alt=\"SpacePy\" width=\"200\" align=\"left\"/>\n",
    "\n",
    "### SpacePy\n",
    "<br>\n",
    "\n",
    "\n",
    "[Space science](https://spacepy.github.io/index.html) focus Python package (largely magnetosphere and energetic particles).\n",
    "- [Coordinate Transforms](https://spacepy.github.io/capabilities.html#coordinate-transforms)\n",
    "- [Modeling](https://spacepy.github.io/capabilities.html)\n",
    "- [irbem library](https://spacepy.github.io/irbempy.html)\n",
    "- [User Guide](https://spacepy.github.io/index.html#spacepy-documents)\n",
    "\n",
    "[PyHC SpacePy Lecture](https://youtu.be/vHlOI6JAZ7A?t=14078)\n"
   ]
  },
  {
   "cell_type": "markdown",
   "id": "06811a87",
   "metadata": {},
   "source": [
    "### pySPEDAS\n",
    "\n",
    "[Magnetospheric](https://pyspedas.readthedocs.io/en/latest/getting_started.html) focussed Python package but expanding to multiple data sets and missions. Built from IDL SPEDAS library. Require [pyTPLOT](https://github.com/MAVENSDC/PyTplot) for plotting and accessing data and [cdflib](https://github.com/MAVENSDC/cdflib) for i/o. \n",
    "- Huge resource for various missions\n",
    "    - [Analysis routines](https://github.com/spedas/pyspedas/tree/master/pyspedas/analysis) and [utilites](https://github.com/spedas/pyspedas/tree/master/pyspedas/utilities)\n",
    "    - [Coordinate Systems](https://pyspedas.readthedocs.io/en/latest/coords.html)\n",
    "    - [Examples](https://github.com/spedas/pyspedas_examples)\n",
    "    - [Tutorials](https://heliopython.org/gallery/generated/gallery/pyspedas_demo.html)\n",
    "    \n",
    "[PyHC pySPEDAS Lecture](https://youtu.be/AVGgMB_-mUQ?t=16365)    \n",
    "    "
   ]
  },
  {
   "cell_type": "markdown",
   "id": "28e544f5",
   "metadata": {},
   "source": [
    "\n",
    "<img src=\"https://raw.githubusercontent.com/PlasmaPy/PlasmaPy-logo/main/exports/with-text-dark.png\" alt=\"PlasmaPy\" width=\"200\" align=\"left\"/>\n",
    "\n",
    "\n",
    "### PlasmaPy\n",
    "\n",
    "[Plasma physics](https://docs.plasmapy.org/en/stable/) focussed Python package for general Heliophysics. \n",
    "    - Excellent resource for modellers \n",
    "    - Excellent [examples](https://docs.plasmapy.org/en/stable/examples.html)\n",
    "    \n",
    "[PyHC PlasmaPy Lecture](https://youtu.be/vHlOI6JAZ7A?t=763)"
   ]
  },
  {
   "cell_type": "markdown",
   "id": "8bee8c01",
   "metadata": {},
   "source": [
    "<img src=\"https://pysat.readthedocs.io/en/latest/_static/logo.png\" alt=\"PlasmaPy\" width=\"100\" align=\"left\"/>\n",
    "\n",
    "<br>\n",
    "\n",
    "### pysat\n",
    "<br>\n",
    "\n",
    "[A Python Satellite Data Analysis Toolkit](https://pysat.readthedocs.io/en/latest/introduction.html)\n",
    "- [Easily access multiple data sets](https://pysat.readthedocs.io/en/latest/index.html)\n",
    "- [Incorporate new data into the pipeline](https://pysat.readthedocs.io/en/latest/new_instrument.html)\n",
    "- [Quick-Start](https://pysat.readthedocs.io/en/latest/quickstart.html)\n",
    "- [Examples](https://pysat.readthedocs.io/en/latest/examples.html)\n",
    "- [Tutorials](https://pysat.readthedocs.io/en/latest/tutorial.html)\n",
    "    \n",
    "[PyHC pysat Lecture](https://youtu.be/AVGgMB_-mUQ?t=3033)"
   ]
  },
  {
   "cell_type": "markdown",
   "id": "d1019b9f",
   "metadata": {},
   "source": [
    "\n",
    "## _Other_ Packages ##\n",
    "- [AACGM](https://aacgmv2.readthedocs.io/en/latest/)\n",
    "- [CDFlib](https://github.com/MAVENSDC/cdflib)\n",
    "- [geopack](https://github.com/tsssss/geopack/blob/master/README.md)\n",
    "- [IGRF](https://github.com/space-physics/igrf)\n",
    "- [PyDarn](https://superdarn.ca/pydarn)"
   ]
  }
 ],
 "metadata": {
  "kernelspec": {
   "display_name": "Python 3 (ipykernel)",
   "language": "python",
   "name": "python3"
  },
  "language_info": {
   "codemirror_mode": {
    "name": "ipython",
    "version": 3
   },
   "file_extension": ".py",
   "mimetype": "text/x-python",
   "name": "python",
   "nbconvert_exporter": "python",
   "pygments_lexer": "ipython3",
   "version": "3.9.12"
  }
 },
 "nbformat": 4,
 "nbformat_minor": 5
}
